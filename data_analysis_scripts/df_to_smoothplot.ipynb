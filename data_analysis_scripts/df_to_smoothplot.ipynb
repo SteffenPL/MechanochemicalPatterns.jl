{
 "cells": [
  {
   "cell_type": "code",
   "execution_count": 2,
   "metadata": {},
   "outputs": [],
   "source": [
    "import os\n",
    "import sys\n",
    "import cv2\n",
    "import math\n",
    "import pandas as pd\n",
    "import numpy as np\n",
    "from matplotlib import pyplot as plt\n",
    "from tqdm import tqdm\n",
    "#import torch \n",
    "#from pykeops.torch import LazyTensor\n",
    "import matplotlib.pylab as pl\n",
    "from matplotlib.colors import ListedColormap\n",
    "from matplotlib import colors\n",
    "import pickle"
   ]
  },
  {
   "cell_type": "code",
   "execution_count": 4,
   "metadata": {},
   "outputs": [
    {
     "name": "stdout",
     "output_type": "stream",
     "text": [
      "/home/plunder/.julia/dev/MechanochemicalPatterns/input/cell_tracking\n"
     ]
    }
   ],
   "source": [
    "# experiment = \"split_20231106\"\n",
    "experiment = \"split_20231212\"\n",
    "%cd /home/plunder/.julia/dev/MechanochemicalPatterns/input/cell_tracking\n",
    "# data = \"RAF005\""
   ]
  },
  {
   "cell_type": "code",
   "execution_count": 5,
   "metadata": {},
   "outputs": [],
   "source": [
    "def open_df(data,experiment=experiment):\n",
    "    df = pd.read_csv(experiment + \"/Automation_out/\"+data+\"_spots.csv\",encoding='cp1252',low_memory=False)\n",
    "    df = df[3:]\n",
    "    df = df.astype({\n",
    "            \"ID\" : int,\n",
    "            \"TRACK_ID\" : int, \n",
    "            \"POSITION_X\" : float,\n",
    "            \"POSITION_Y\" : float,\n",
    "            \"POSITION_Z\" : float,\n",
    "            \"POSITION_T\" : float,\n",
    "            \"FRAME\" : int,\n",
    "            \"MIN_INTENSITY_CH1\" : float,\n",
    "            \"MAX_INTENSITY_CH1\" : float,\n",
    "            \"MEDIAN_INTENSITY_CH1\" : float,\n",
    "            \"TOTAL_INTENSITY_CH1\" : float,\n",
    "            \"STD_INTENSITY_CH1\" : float,\n",
    "            \"CONTRAST_CH1\" : float,\n",
    "            \"SNR_CH1\" : float\n",
    "            })\n",
    "    return df\n",
    "\n",
    "def get_x_data(df,T,zmin=0.0,zmax=100.0):\n",
    "    return df[(df[\"FRAME\"]==T) & (df[\"POSITION_Z\"]>=zmin) & (df[\"POSITION_Z\"]<=zmax)][\"POSITION_X\"].to_numpy()\n",
    "def get_y_data(df,T,zmin=0.0,zmax=100.0):\n",
    "    return df[(df[\"FRAME\"]==T) & (df[\"POSITION_Z\"]>=zmin) & (df[\"POSITION_Z\"]<=zmax)][\"POSITION_Y\"].to_numpy()\n",
    "def get_snr(df,T,zmin=0.0,zmax=100.0):\n",
    "    return df[(df[\"FRAME\"]==T) & (df[\"POSITION_Z\"]>=zmin) & (df[\"POSITION_Z\"]<=zmax)][\"SNR_CH1\"].to_numpy()\n",
    "def get_intensity(df,T,zmin=0.0,zmax=100.0):\n",
    "    log_intensity = np.log10(df[(df[\"FRAME\"]==T) & (df[\"POSITION_Z\"]>=zmin) & (df[\"POSITION_Z\"]<=zmax)][\"TOTAL_INTENSITY_CH1\"].to_numpy())\n",
    "    log_intensity -= log_intensity.min()\n",
    "    log_intensity *= 0.9/log_intensity.max()\n",
    "    log_intensity += 0.09\n",
    "    return log_intensity\n",
    "\n",
    "\n",
    "def cmap(cell_type):\n",
    "    if cell_type==\"Proximal\":\n",
    "        # cmap_base = pl.cm.Purples\n",
    "        cmap_base = colors.LinearSegmentedColormap.from_list(\"magenta\", [\"m\",\"m\"], N=1000)\n",
    "    elif cell_type==\"Distal\":\n",
    "        # cmap_base = pl.cm.Greens\n",
    "        cmap_base = colors.LinearSegmentedColormap.from_list(\"magenta\", [\"g\",\"g\"], N=1000)\n",
    "    else:\n",
    "        cmap_base = pl.cm.Blues\n",
    "    # Get the colormap colors\n",
    "    cmap = cmap_base(np.arange(cmap_base.N))\n",
    "    # Set alpha\n",
    "    cmap[:,-1] = np.linspace(0, 1, cmap_base.N)**2\n",
    "    # Create new colormap\n",
    "    cmap = ListedColormap(cmap)\n",
    "    return cmap"
   ]
  },
  {
   "cell_type": "code",
   "execution_count": 4,
   "metadata": {},
   "outputs": [],
   "source": [
    "def sample_grid(n, dim=2,dtype=torch.float32,device=\"cpu\"):\n",
    "    grid_points = torch.linspace(0,1,n,dtype=dtype,device=device)\n",
    "    grid_points = torch.stack(\n",
    "        torch.meshgrid((grid_points,) * dim, indexing=\"ij\"), dim=-1\n",
    "    )\n",
    "    grid_points = grid_points.reshape(-1, dim)\n",
    "    return grid_points\n",
    "\n",
    "def df_to_pos_normalized(df,T=1,zmin=0.0,zmax=100.0):\n",
    "    x_data = get_x_data(df,T,zmin=zmin,zmax=zmax)\n",
    "    y_data = get_y_data(df,T,zmin=zmin,zmax=zmax)\n",
    "    x_data /= max(x_data.max(),y_data.max())\n",
    "    y_data /= max(x_data.max(),y_data.max())\n",
    "    return torch.tensor(np.c_[x_data,y_data],dtype=torch.float32)\n",
    "\n",
    "def pos_grid_to_pixels(pos,grid,eps,intensity=None,scale=1.0):\n",
    "    N = int(math.sqrt(len(grid)))\n",
    "    x_j = LazyTensor(pos[None,:,:])\n",
    "    y_i = LazyTensor(grid[:,None,:])\n",
    "    K = (-((y_i - x_j)**2).sum(-1)/(2*eps**2)).exp()/(2*math.pi*eps**2)\n",
    "    if intensity is None:\n",
    "        grid_val = K.sum(1)/len(pos)\n",
    "    else: \n",
    "        grid_val = K @ intensity\n",
    "    return grid_val.reshape((N,N)) * scale\n",
    "\n",
    "def df_to_smooth(data,N=512,eps=0.05,T=1,zmin=0.0,zmax=100.0,N0_prox=1140,N0_dist=1140):\n",
    "    y_grid = sample_grid(N)\n",
    "    df_prox = open_df(data + \"_Proximal\")\n",
    "    df_dist = open_df(data + \"_Distal\")\n",
    "    prox_data = df_to_pos_normalized(df_prox,T=T,zmin=zmin,zmax=zmax)\n",
    "    dist_data = df_to_pos_normalized(df_dist,T=T,zmin=zmin,zmax=zmax)\n",
    "    \n",
    "    intensity_prox = torch.tensor(get_intensity(df_prox,T,zmin=zmin,zmax=zmax),dtype=torch.float32)\n",
    "    intensity_prox /= intensity_prox.sum()\n",
    "    intensity_dist = torch.tensor(get_intensity(df_dist,T,zmin=zmin,zmax=zmax),dtype=torch.float32)\n",
    "    intensity_dist /= intensity_dist.sum()\n",
    "    \n",
    "    pixels_prox = pos_grid_to_pixels(prox_data,y_grid,eps,intensity_prox,scale=len(prox_data)/N0_prox)\n",
    "    pixels_dist = pos_grid_to_pixels(dist_data,y_grid,eps,intensity_dist,scale=len(dist_data)/N0_dist)\n",
    "    \n",
    "    return pixels_prox, pixels_dist"
   ]
  },
  {
   "cell_type": "code",
   "execution_count": 5,
   "metadata": {},
   "outputs": [],
   "source": [
    "def plot_smooth(pixels_prox,pixels_dist,alpha_prox=1.0,alpha_dist=1.0,vmin=0.0,vmax=2.0):\n",
    "    fig_smooth, ax_smooth = plt.subplots()\n",
    "\n",
    "    cmap_prox = cmap(\"Proximal\")\n",
    "    cmap_dist = cmap(\"Distal\")\n",
    "\n",
    "    im_prox = ax_smooth.imshow(pixels_prox.numpy().transpose(),origin='lower',cmap=cmap_prox,alpha=alpha_prox,vmin=vmin,vmax=vmax)\n",
    "    im_dist = ax_smooth.imshow(pixels_dist.numpy().transpose(),origin='lower',cmap=cmap_dist,alpha=alpha_dist,vmin=vmin,vmax=vmax)\n",
    "    ax_smooth.invert_yaxis()\n",
    "    ax_smooth.set_aspect(\"equal\")\n",
    "    \n",
    "    if alpha_prox>0.0:\n",
    "        fig_smooth.colorbar(im_prox, ax=ax_smooth)\n",
    "    if alpha_dist>0.0:\n",
    "        fig_smooth.colorbar(im_dist, ax=ax_smooth)\n",
    "    \n",
    "    return fig_smooth, ax_smooth"
   ]
  },
  {
   "cell_type": "code",
   "execution_count": 6,
   "metadata": {},
   "outputs": [],
   "source": [
    "def make_video(number_of_frames=None,prefix=\"t_\",simu_name=\"simu\",video_name='funny_video',frame_dir=\"frames\",rate=40):\n",
    "    img_array = []\n",
    "    current_directory = os.getcwd()\n",
    "    frame_directory = current_directory+\"/\"+simu_name+\"/\"+frame_dir\n",
    "    if number_of_frames is None:\n",
    "        number_of_frames = len([name for name in os.listdir(frame_directory) if os.path.isfile(os.path.join(frame_directory, name))])\n",
    "    for count in range(number_of_frames):\n",
    "        filename = frame_directory+\"/\"+prefix+str(count)+'.png'\n",
    "        img = cv2.imread(filename)\n",
    "        height, width, layers = img.shape\n",
    "        size = (width,height)\n",
    "        img_array.append(img)\n",
    "    out = cv2.VideoWriter(simu_name+\"/\"+video_name+'.avi',cv2.VideoWriter_fourcc(*'DIVX'), rate,size)\n",
    "    for i in range(len(img_array)):\n",
    "        out.write(img_array[i])\n",
    "    out.release()"
   ]
  },
  {
   "cell_type": "code",
   "execution_count": 7,
   "metadata": {},
   "outputs": [],
   "source": [
    "def save_all(data):\n",
    "    simu_name = experiment + \"_\" + data + \"_smooth\"\n",
    "    os.mkdir(simu_name)\n",
    "    os.mkdir(simu_name + \"/Proximal\")\n",
    "    os.mkdir(simu_name + \"/Distal\")\n",
    "    os.mkdir(simu_name + \"/Proximal/frames\")\n",
    "    os.mkdir(simu_name + \"/Proximal/data\")\n",
    "    os.mkdir(simu_name + \"/Distal/frames\")\n",
    "    os.mkdir(simu_name + \"/Distal/data\")\n",
    "    T = min(open_df(data + \"_Proximal\")[\"FRAME\"].max(),open_df(data + \"_Distal\")[\"FRAME\"].max())\n",
    "    N0_prox = len(get_x_data(open_df(data + \"_Proximal\"),T,zmin=0.0,zmax=1000.0))\n",
    "    N0_dist = len(get_x_data(open_df(data + \"_Distal\"),T,zmin=0.0,zmax=1000.0))\n",
    "    prox, dist = df_to_smooth(data,T=T,zmin=0.0,zmax=1000.0,N0_prox=N0_prox,N0_dist=N0_dist)\n",
    "    vmax_prox = prox.max()\n",
    "    vmax_dist = dist.max()\n",
    "    for t in tqdm(range(1,T+1)):\n",
    "        pixels_prox, pixels_dist = df_to_smooth(data,T=t,zmin=0.0,zmax=1000.0,N0_prox=N0_prox,N0_dist=N0_dist)\n",
    "        fig_prox, ax_prox = plot_smooth(pixels_prox, pixels_dist,alpha_dist=0.0,vmax=vmax_prox)\n",
    "        fig_dist, ax_dist = plot_smooth(pixels_prox, pixels_dist,alpha_prox=0.0,vmax=vmax_dist)\n",
    "        ax_prox.set_title(f\"t={t}\")\n",
    "        ax_dist.set_title(f\"t={t}\")\n",
    "        fig_prox.savefig(simu_name + \"/Proximal/frames/t_\"+str(t-1)+\".png\")\n",
    "        fig_dist.savefig(simu_name + \"/Distal/frames/t_\"+str(t-1)+\".png\")\n",
    "        plt.close()\n",
    "        plt.close()\n",
    "        with open(simu_name + \"/Proximal/data/\" + f\"data_{t}.pkl\",'wb') as file:\n",
    "            pickle.dump(pixels_prox,file)\n",
    "        with open(simu_name + \"/Distal/data/\" + f\"data_{t}.pkl\",'wb') as file:\n",
    "            pickle.dump(pixels_dist,file)\n",
    "    make_video(simu_name=simu_name+\"/Proximal\",video_name=simu_name+\"_Proximal\")\n",
    "    make_video(simu_name=simu_name+\"/Distal\",video_name=simu_name+\"_Distal\")\n"
   ]
  },
  {
   "cell_type": "code",
   "execution_count": 8,
   "metadata": {},
   "outputs": [],
   "source": [
    "# save_all(data)"
   ]
  },
  {
   "cell_type": "code",
   "execution_count": 9,
   "metadata": {},
   "outputs": [],
   "source": [
    "# for k in range(1,10):\n",
    "#     try:\n",
    "#         save_all(\"FWF00\" + str(k))\n",
    "#     except:\n",
    "#         print(\"There is a problem with FWF00\" + str(k))\n",
    "#     try:\n",
    "#         save_all(\"NCF00\" + str(k))\n",
    "#     except:\n",
    "#         print(\"There is a problem with NCF00\" + str(k))\n",
    "#     try:\n",
    "#         save_all(\"RAF00\" + str(k))\n",
    "#     except:\n",
    "#         print(\"There is a problem with RAF00\" + str(k))"
   ]
  },
  {
   "cell_type": "code",
   "execution_count": 10,
   "metadata": {},
   "outputs": [],
   "source": [
    "# %matplotlib widget\n",
    "# data = \"FWF003\"\n",
    "# N0_prox = len(get_x_data(open_df(data + \"_Proximal\"),100,zmin=0.0,zmax=1000.0))\n",
    "# N0_dist = len(get_x_data(open_df(data + \"_Distal\"),100,zmin=0.0,zmax=1000.0))\n",
    "# prox, dist = df_to_smooth(data,T=287,zmin=0.0,zmax=1000.0,N0_prox=N0_prox,N0_dist=N0_dist,eps=0.05)\n",
    "# X = np.linspace(0,1,512)\n",
    "# Y = np.linspace(0,1,512)\n",
    "# X, Y = np.meshgrid(X, Y)\n",
    "# fig, ax = plt.subplots(subplot_kw={\"projection\": \"3d\"})\n",
    "# surf_prox = ax.plot_surface(X, Y, prox, cmap=\"Purples\",linewidth=0, antialiased=False)\n",
    "# surf_dist = ax.plot_surface(X, Y, dist, cmap=\"Greens\",linewidth=0, antialiased=False)"
   ]
  },
  {
   "cell_type": "code",
   "execution_count": 11,
   "metadata": {},
   "outputs": [],
   "source": [
    "# df = open_df(\"NCF004\" + \"_Proximal\")"
   ]
  },
  {
   "cell_type": "code",
   "execution_count": 12,
   "metadata": {},
   "outputs": [],
   "source": [
    "# open_df(\"NCF004\" + \"_Distal\")"
   ]
  },
  {
   "cell_type": "code",
   "execution_count": 8,
   "metadata": {},
   "outputs": [],
   "source": [
    "def replot(data):\n",
    "    simu_name = experiment + \"_\" + data + \"_smooth\"\n",
    "    os.mkdir(simu_name + \"/Proximal/frames_replot\")\n",
    "    os.mkdir(simu_name + \"/Distal/frames_replot\")\n",
    "    T = min(open_df(data + \"_Proximal\")[\"FRAME\"].max(),open_df(data + \"_Distal\")[\"FRAME\"].max())\n",
    "    N0_prox = len(get_x_data(open_df(data + \"_Proximal\"),T,zmin=0.0,zmax=1000.0))\n",
    "    N0_dist = len(get_x_data(open_df(data + \"_Distal\"),T,zmin=0.0,zmax=1000.0))\n",
    "    with open(simu_name + \"/Proximal/data/\" + f\"data_{T}.pkl\",'rb') as file:\n",
    "            pixels_prox = pickle.load(file)\n",
    "    with open(simu_name + \"/Distal/data/\" + f\"data_{T}.pkl\",'rb') as file:\n",
    "        pixels_dist = pickle.load(file)\n",
    "    vmax_prox = pixels_prox.max()\n",
    "    vmax_dist = pixels_dist.max()\n",
    "    for t in tqdm(range(1,T+1)):\n",
    "        with open(simu_name + \"/Proximal/data/\" + f\"data_{t}.pkl\",'rb') as file:\n",
    "            pixels_prox = pickle.load(file)\n",
    "        with open(simu_name + \"/Distal/data/\" + f\"data_{t}.pkl\",'rb') as file:\n",
    "            pixels_dist = pickle.load(file)\n",
    "        fig_prox, ax_prox = plot_smooth(pixels_prox, pixels_dist,alpha_dist=0.0,vmax=vmax_prox)\n",
    "        fig_dist, ax_dist = plot_smooth(pixels_prox, pixels_dist,alpha_prox=0.0,vmax=vmax_dist)\n",
    "        ax_prox.set_title(f\"t={t}\")\n",
    "        ax_dist.set_title(f\"t={t}\")\n",
    "        fig_prox.savefig(simu_name + \"/Proximal/frames_replot/t_\"+str(t-1)+\".png\")\n",
    "        fig_dist.savefig(simu_name + \"/Distal/frames_replot/t_\"+str(t-1)+\".png\")\n",
    "        plt.close()\n",
    "        plt.close()\n",
    "    make_video(simu_name=simu_name+\"/Proximal\",video_name=simu_name+\"_Proximal_replot\",frame_dir=\"frames_replot\")\n",
    "    make_video(simu_name=simu_name+\"/Distal\",video_name=simu_name+\"_Distal_replot\",frame_dir=\"frames_replot\")\n"
   ]
  },
  {
   "cell_type": "code",
   "execution_count": 7,
   "metadata": {},
   "outputs": [
    {
     "ename": "FileExistsError",
     "evalue": "[Errno 17] File exists: 'split_20231212_FWF003_smooth/Proximal/frames_replot'",
     "output_type": "error",
     "traceback": [
      "\u001b[0;31m---------------------------------------------------------------------------\u001b[0m",
      "\u001b[0;31mFileExistsError\u001b[0m                           Traceback (most recent call last)",
      "Cell \u001b[0;32mIn[7], line 3\u001b[0m\n\u001b[1;32m      1\u001b[0m plt\u001b[38;5;241m.\u001b[39mstyle\u001b[38;5;241m.\u001b[39muse(\u001b[38;5;124m'\u001b[39m\u001b[38;5;124mdark_background\u001b[39m\u001b[38;5;124m'\u001b[39m)\n\u001b[0;32m----> 3\u001b[0m \u001b[43mreplot\u001b[49m\u001b[43m(\u001b[49m\u001b[38;5;124;43m\"\u001b[39;49m\u001b[38;5;124;43mFWF003\u001b[39;49m\u001b[38;5;124;43m\"\u001b[39;49m\u001b[43m)\u001b[49m\n",
      "Cell \u001b[0;32mIn[6], line 3\u001b[0m, in \u001b[0;36mreplot\u001b[0;34m(data)\u001b[0m\n\u001b[1;32m      1\u001b[0m \u001b[38;5;28;01mdef\u001b[39;00m \u001b[38;5;21mreplot\u001b[39m(data):\n\u001b[1;32m      2\u001b[0m     simu_name \u001b[38;5;241m=\u001b[39m experiment \u001b[38;5;241m+\u001b[39m \u001b[38;5;124m\"\u001b[39m\u001b[38;5;124m_\u001b[39m\u001b[38;5;124m\"\u001b[39m \u001b[38;5;241m+\u001b[39m data \u001b[38;5;241m+\u001b[39m \u001b[38;5;124m\"\u001b[39m\u001b[38;5;124m_smooth\u001b[39m\u001b[38;5;124m\"\u001b[39m\n\u001b[0;32m----> 3\u001b[0m     \u001b[43mos\u001b[49m\u001b[38;5;241;43m.\u001b[39;49m\u001b[43mmkdir\u001b[49m\u001b[43m(\u001b[49m\u001b[43msimu_name\u001b[49m\u001b[43m \u001b[49m\u001b[38;5;241;43m+\u001b[39;49m\u001b[43m \u001b[49m\u001b[38;5;124;43m\"\u001b[39;49m\u001b[38;5;124;43m/Proximal/frames_replot\u001b[39;49m\u001b[38;5;124;43m\"\u001b[39;49m\u001b[43m)\u001b[49m\n\u001b[1;32m      4\u001b[0m     os\u001b[38;5;241m.\u001b[39mmkdir(simu_name \u001b[38;5;241m+\u001b[39m \u001b[38;5;124m\"\u001b[39m\u001b[38;5;124m/Distal/frames_replot\u001b[39m\u001b[38;5;124m\"\u001b[39m)\n\u001b[1;32m      5\u001b[0m     T \u001b[38;5;241m=\u001b[39m \u001b[38;5;28mmin\u001b[39m(open_df(data \u001b[38;5;241m+\u001b[39m \u001b[38;5;124m\"\u001b[39m\u001b[38;5;124m_Proximal\u001b[39m\u001b[38;5;124m\"\u001b[39m)[\u001b[38;5;124m\"\u001b[39m\u001b[38;5;124mFRAME\u001b[39m\u001b[38;5;124m\"\u001b[39m]\u001b[38;5;241m.\u001b[39mmax(),open_df(data \u001b[38;5;241m+\u001b[39m \u001b[38;5;124m\"\u001b[39m\u001b[38;5;124m_Distal\u001b[39m\u001b[38;5;124m\"\u001b[39m)[\u001b[38;5;124m\"\u001b[39m\u001b[38;5;124mFRAME\u001b[39m\u001b[38;5;124m\"\u001b[39m]\u001b[38;5;241m.\u001b[39mmax())\n",
      "\u001b[0;31mFileExistsError\u001b[0m: [Errno 17] File exists: 'split_20231212_FWF003_smooth/Proximal/frames_replot'"
     ]
    }
   ],
   "source": [
    "plt.style.use('dark_background')\n",
    "\n",
    "replot(\"FWF003\")"
   ]
  },
  {
   "cell_type": "code",
   "execution_count": 15,
   "metadata": {},
   "outputs": [
    {
     "name": "stderr",
     "output_type": "stream",
     "text": [
      "100%|██████████| 290/290 [01:09<00:00,  4.17it/s]\n"
     ]
    }
   ],
   "source": [
    "plt.style.use('dark_background')\n",
    "\n",
    "replot(\"FWF006\")"
   ]
  },
  {
   "cell_type": "code",
   "execution_count": 16,
   "metadata": {},
   "outputs": [],
   "source": [
    "# for k in range(1,10):\n",
    "#     try:\n",
    "#         replot(\"FWF00\" + str(k))\n",
    "#     except:\n",
    "#         print(\"There is a problem with FWF00\" + str(k))\n",
    "#     try:\n",
    "#         replot(\"NCF00\" + str(k))\n",
    "#     except:\n",
    "#         print(\"There is a problem with NCF00\" + str(k))\n",
    "#     try:\n",
    "#         replot(\"RAF00\" + str(k))\n",
    "#     except:\n",
    "#         print(\"There is a problem with RAF00\" + str(k))"
   ]
  }
 ],
 "metadata": {
  "kernelspec": {
   "display_name": "202302",
   "language": "python",
   "name": "python3"
  },
  "language_info": {
   "codemirror_mode": {
    "name": "ipython",
    "version": 3
   },
   "file_extension": ".py",
   "mimetype": "text/x-python",
   "name": "python",
   "nbconvert_exporter": "python",
   "pygments_lexer": "ipython3",
   "version": "3.10.11"
  }
 },
 "nbformat": 4,
 "nbformat_minor": 2
}
