{
 "cells": [
  {
   "cell_type": "code",
   "execution_count": null,
   "metadata": {},
   "outputs": [],
   "source": [
    "import os\n",
    "import sys\n",
    "import cv2\n",
    "import math\n",
    "import pandas as pd\n",
    "import numpy as np\n",
    "from matplotlib import pyplot as plt\n",
    "from tqdm import tqdm\n",
    "import torch \n",
    "from pykeops.torch import LazyTensor\n",
    "import matplotlib.pylab as pl\n",
    "from matplotlib.colors import ListedColormap\n",
    "import pickle"
   ]
  },
  {
   "cell_type": "code",
   "execution_count": null,
   "metadata": {},
   "outputs": [],
   "source": [
    "split = \"split_20231212\"\n",
    "experiment = \"FWF006\"\n",
    "cell_type = \"Proximal\"\n",
    "N = 512"
   ]
  },
  {
   "cell_type": "code",
   "execution_count": null,
   "metadata": {},
   "outputs": [],
   "source": [
    "def sample_grid(n, dim=2,dtype=torch.float32,device=\"cpu\"):\n",
    "    grid_points = torch.linspace(0,1,n,dtype=dtype,device=device)\n",
    "    grid_points = torch.stack(\n",
    "        torch.meshgrid((grid_points,) * dim, indexing=\"ij\"), dim=-1\n",
    "    )\n",
    "    grid_points = grid_points.reshape(-1, dim)\n",
    "    return grid_points\n",
    "\n",
    "y_grid = sample_grid(N)\n",
    "R = 0.1\n",
    "\n",
    "def neighbours_grid(i,y_grid,R):\n",
    "    yi = y_grid[i,:].reshape((1,2))\n",
    "    return (((yi - y_grid)**2).sum(1) <= R**2).float().squeeze()\n",
    "\n"
   ]
  },
  {
   "cell_type": "code",
   "execution_count": null,
   "metadata": {},
   "outputs": [],
   "source": [
    "data_dir = split+\"_\"+experiment+\"_smooth/\"+cell_type+\"/data/\""
   ]
  },
  {
   "cell_type": "code",
   "execution_count": null,
   "metadata": {},
   "outputs": [],
   "source": [
    "def open_data(data_dir,N=512):\n",
    "    T = len([name for name in os.listdir(data_dir) if os.path.isfile(os.path.join(data_dir, name))])\n",
    "    data = torch.zeros((N,N,T))\n",
    "    for t in range(1,T+1):\n",
    "        with open(data_dir + \"data_\" + str(t) + \".pkl\", 'rb') as file:\n",
    "            data[:,:,t-1] = pickle.load(file)\n",
    "    return data\n",
    "\n",
    "data = open_data(data_dir,N=N)"
   ]
  },
  {
   "cell_type": "code",
   "execution_count": null,
   "metadata": {},
   "outputs": [],
   "source": [
    "# plt.plot(smooth_max)\n",
    "# # plt.plot(data.reshape((N*N,T))[data_max[1][-1].item(),:])"
   ]
  },
  {
   "cell_type": "code",
   "execution_count": null,
   "metadata": {},
   "outputs": [],
   "source": [
    "from matplotlib.widgets import Button, Slider\n",
    "\n",
    "def smooth_max(data,y_grid,R):\n",
    "    N = data.shape[0]\n",
    "    T = data.shape[2]\n",
    "    data_max = torch.max(data.reshape((N*N,T)),dim=0)\n",
    "    ngh_max = neighbours_grid(data_max[1][-1].item(),y_grid,R).bool()\n",
    "    smooth_max = data.reshape((N*N,T))[ngh_max,:].sum(0) * (1/N)**2\n",
    "    return data_max[1][-1].item(), smooth_max\n",
    "\n",
    "def cmap(color):\n",
    "    if color==\"blue\":\n",
    "        cmap_base = pl.cm.Blues\n",
    "    elif color==\"magenta\":\n",
    "        cmap_base = pl.cm.Purples\n",
    "    elif color==\"green\":\n",
    "        cmap_base = pl.cm.Greens\n",
    "    else:\n",
    "        raise ValueError(\"Unknown color\")\n",
    "    # Get the colormap colors\n",
    "    cmap = cmap_base(np.arange(cmap_base.N))\n",
    "    # Set alpha\n",
    "    cmap[:,-1] = np.linspace(0, 1, cmap_base.N)\n",
    "    # Create new colormap\n",
    "    cmap = ListedColormap(cmap)\n",
    "    return cmap\n",
    "    \n",
    "def data_to_smax(data,y_grid,R=0.1,T0=1,cmapcolor=\"blue\"):\n",
    "    index, smax = smooth_max(data,y_grid,R)\n",
    "    yx = y_grid[index,0].item()\n",
    "    yy = y_grid[index,1].item()\n",
    "    fig, axs = plt.subplots(1,2,figsize=(8,4))\n",
    "    im = axs[0].imshow(data[:,:,T0-1].numpy().transpose(),origin='lower',cmap=cmap(cmapcolor),vmin=0.0,vmax=data[:,:,-1].max().item())\n",
    "    axs[0].invert_yaxis()\n",
    "    axs[0].set_aspect(\"equal\")\n",
    "    \n",
    "    scat = axs[0].scatter([yx*N],[yy*N],s=15,c='red')\n",
    "    circ = axs[0].plot(N*(yx + R*np.cos(2*math.pi*np.linspace(0,1,100))),N*(yy + R*np.sin(2*math.pi*np.linspace(0,1,100))),c='r')\n",
    "\n",
    "    maxplot, = axs[1].plot(smax)\n",
    "    timeline = axs[1].vlines(x=T0,ymin=0,ymax=1.1*smax.max().item(),color='r')\n",
    "    # axs[1].set_xlim(0,T)\n",
    "    # axs[1].set_ylim(0,1.05*smax.max())\n",
    "    fig.subplots_adjust(left=0.25, bottom=0.25)\n",
    "    \n",
    "    \n",
    "    axtime = fig.add_axes([0.25, 0.1, 0.65, 0.03])\n",
    "    frame_slider = Slider(\n",
    "        ax=axtime,\n",
    "        label='FRAME',\n",
    "        valmin=1,\n",
    "        valmax=data.shape[2],\n",
    "        valinit=T0,\n",
    "        valstep=1\n",
    "    )\n",
    "    \n",
    "    def update(val):\n",
    "        im.set_data(data[:,:,frame_slider.val-1].numpy().transpose())\n",
    "        # maxplot.set_ydata(smax[:frame_slider.val-1])\n",
    "        timeline.set_segments([np.array([[frame_slider.val-1, 0], [frame_slider.val-1, 1.1*smax.max().item()]])])\n",
    "        fig.canvas.draw_idle()\n",
    "    \n",
    "    frame_slider.on_changed(update)\n",
    "    \n",
    "    \n",
    "    return fig, axs\n",
    "\n"
   ]
  },
  {
   "cell_type": "code",
   "execution_count": null,
   "metadata": {},
   "outputs": [],
   "source": [
    "# %matplotlib widget\n",
    "# fig, axs = data_to_smax(data,y_grid,R=0.1)"
   ]
  },
  {
   "cell_type": "code",
   "execution_count": null,
   "metadata": {},
   "outputs": [],
   "source": [
    "# for k in range(9):\n",
    "#     split = \"split_20231212\"\n",
    "#     experiment = \"FWF00\"+str(k+1)\n",
    "#     cell_type = \"Proximal\"\n",
    "#     N = 512\n",
    "#     data_dir = split+\"_\"+experiment+\"_smooth/\"+cell_type+\"/data/\"\n",
    "#     data = open_data(data_dir,N=N)\n",
    "#     fig, axs = data_to_smax(data,y_grid,R=0.1,cmapcolor=\"magenta\",T0=data.shape[2])\n",
    "#     fig.suptitle(experiment + \" (\" + cell_type + \")\")"
   ]
  },
  {
   "cell_type": "code",
   "execution_count": null,
   "metadata": {},
   "outputs": [],
   "source": [
    "# for k in range(9):\n",
    "#     split = \"split_20231212\"\n",
    "#     experiment = \"FWF00\"+str(k+1)\n",
    "#     cell_type = \"Distal\"\n",
    "#     N = 512\n",
    "#     data_dir = split+\"_\"+experiment+\"_smooth/\"+cell_type+\"/data/\"\n",
    "#     data = open_data(data_dir,N=N)\n",
    "#     fig, axs = data_to_smax(data,y_grid,R=0.1,cmapcolor=\"green\",T0=data.shape[2])\n",
    "#     fig.suptitle(experiment + \" (\" + cell_type + \")\")"
   ]
  },
  {
   "cell_type": "code",
   "execution_count": null,
   "metadata": {},
   "outputs": [],
   "source": [
    "def plot_all(split,experiment,cell_type,N=512):\n",
    "    if cell_type == \"Proximal\":\n",
    "        cmapcolor=\"magenta\"\n",
    "    elif cell_type == \"Distal\":\n",
    "        cmapcolor=\"green\"\n",
    "    fig = plt.figure(figsize=(28,14))\n",
    "    subfigs = fig.subfigures(3, 3, wspace=0.07)\n",
    "    for k in range(9):\n",
    "        sfi = int(k/3)\n",
    "        sfj = k%3\n",
    "        experiment_number = experiment+str(k+1)\n",
    "        data_dir = split+\"_\"+experiment_number+\"_smooth/\"+cell_type+\"/data/\"\n",
    "        try:\n",
    "            data = open_data(data_dir,N=N)\n",
    "            index, smax = smooth_max(data,y_grid,R)\n",
    "            yx = y_grid[index,0].item()\n",
    "            yy = y_grid[index,1].item()\n",
    "            axs = subfigs[sfi,sfj].subplots(1,2)\n",
    "            im = axs[0].imshow(data[:,:,-1].numpy().transpose(),origin='lower',cmap=cmap(cmapcolor),vmin=0.0,vmax=data[:,:,-1].max().item())\n",
    "            axs[0].invert_yaxis()\n",
    "            axs[0].set_aspect(\"equal\")\n",
    "            scat = axs[0].scatter([yx*N],[yy*N],s=15,c='red')\n",
    "            circ = axs[0].plot(N*(yx + R*np.cos(2*math.pi*np.linspace(0,1,100))),N*(yy + R*np.sin(2*math.pi*np.linspace(0,1,100))),c='r')\n",
    "            maxplot, = axs[1].plot(smax)\n",
    "            subfigs[sfi,sfj].suptitle(experiment_number + \" (\" + cell_type + \")\")\n",
    "        except:\n",
    "            print(\"There is a problem with \" + experiment_number)\n",
    "    return fig"
   ]
  },
  {
   "cell_type": "code",
   "execution_count": null,
   "metadata": {},
   "outputs": [],
   "source": [
    "%matplotlib inline\n",
    "fig_prox = plot_all(\"split_20231212\",\"FWF00\",\"Proximal\")\n",
    "fig_dist = plot_all(\"split_20231212\",\"FWF00\",\"Distal\")\n",
    "\n",
    "fig_prox.savefig(\"FWF_Proximal_MaxPeak.png\")\n",
    "fig_dist.savefig(\"FWF_Distal_MaxPeak.png\")"
   ]
  },
  {
   "cell_type": "code",
   "execution_count": null,
   "metadata": {},
   "outputs": [],
   "source": [
    "%matplotlib inline\n",
    "fig_prox = plot_all(\"split_20231212\",\"NCF00\",\"Proximal\")\n",
    "fig_dist = plot_all(\"split_20231212\",\"NCF00\",\"Distal\")\n",
    "\n",
    "fig_prox.savefig(\"NCF_Proximal_MaxPeak.png\")\n",
    "fig_dist.savefig(\"NCF_Distal_MaxPeak.png\")"
   ]
  },
  {
   "cell_type": "code",
   "execution_count": null,
   "metadata": {},
   "outputs": [],
   "source": [
    "%matplotlib inline\n",
    "fig_prox = plot_all(\"split_20231212\",\"RAF00\",\"Proximal\")\n",
    "fig_dist = plot_all(\"split_20231212\",\"RAF00\",\"Distal\")\n",
    "\n",
    "fig_prox.savefig(\"RAF_Proximal_MaxPeak.png\")\n",
    "fig_dist.savefig(\"RAF_Distal_MaxPeak.png\")"
   ]
  }
 ],
 "metadata": {
  "kernelspec": {
   "display_name": "202302",
   "language": "python",
   "name": "python3"
  },
  "language_info": {
   "codemirror_mode": {
    "name": "ipython",
    "version": 3
   },
   "file_extension": ".py",
   "mimetype": "text/x-python",
   "name": "python",
   "nbconvert_exporter": "python",
   "pygments_lexer": "ipython3",
   "version": "3.9.16"
  }
 },
 "nbformat": 4,
 "nbformat_minor": 2
}
